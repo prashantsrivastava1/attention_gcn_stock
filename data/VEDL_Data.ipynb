{
 "cells": [
  {
   "cell_type": "code",
   "execution_count": 3,
   "metadata": {},
   "outputs": [],
   "source": [
    "import yfinance as yf\n",
    "import pandas as pd\n",
    "\n",
    "# Define the date range\n",
    "start_date = '2019-01-01'\n",
    "end_date = '2024-10-24'"
   ]
  },
  {
   "cell_type": "code",
   "execution_count": 7,
   "metadata": {},
   "outputs": [
    {
     "name": "stderr",
     "output_type": "stream",
     "text": [
      "[*********************100%***********************]  1 of 1 completed"
     ]
    },
    {
     "name": "stdout",
     "output_type": "stream",
     "text": [
      "         Date        Open        High         Low       Close  Adj Close  \\\n",
      "0  2019-01-01  202.500000  202.850006  200.350006  202.100006  88.260162   \n",
      "1  2019-01-02  200.000000  200.000000  192.500000  193.149994  84.351532   \n",
      "2  2019-01-03  193.699997  195.000000  187.550003  187.949997  82.080643   \n",
      "3  2019-01-04  188.000000  194.449997  186.649994  192.899994  84.242378   \n",
      "4  2019-01-07  196.100006  198.649994  192.500000  193.449997  84.482552   \n",
      "\n",
      "     Volume  \n",
      "0   3947501  \n",
      "1  18935386  \n",
      "2  13968283  \n",
      "3  12883382  \n",
      "4  11020289  \n"
     ]
    },
    {
     "name": "stderr",
     "output_type": "stream",
     "text": [
      "\n"
     ]
    }
   ],
   "source": [
    "# Function to download historical stock data\n",
    "def download_stock_data(ticker, start_date, end_date):\n",
    "    stock_data = yf.download(ticker, start=start_date, end=end_date)  # type: ignore\n",
    "    stock_data.reset_index(inplace=True)  # Reset index to make 'Date' a column\n",
    "    return stock_data\n",
    "\n",
    "# Download Vedanta Limited (VEDL) stock data\n",
    "vedl_data = download_stock_data(\"VEDL.NS\", start_date, end_date)\n",
    "\n",
    "# Flatten MultiIndex columns\n",
    "vedl_data.columns = ['_'.join(col).strip() if isinstance(col, tuple) else col for col in vedl_data.columns]\n",
    "\n",
    "vedl_data.rename(columns={'Date_': 'Date'}, inplace=True)\n",
    "\n",
    "# Convert 'Date' column to datetime and then to date only\n",
    "vedl_data['Date'] = pd.to_datetime(vedl_data['Date'])\n",
    "vedl_data['Date'] = vedl_data['Date'].dt.date\n",
    "\n",
    "# Sort and reset index\n",
    "vedl_data = vedl_data.sort_values(by='Date', ascending=True).reset_index(drop=True)\n",
    "\n",
    "vedl_data.to_csv('vedl_data.csv')\n",
    "\n",
    "# Display the DataFrame to check structure\n",
    "print(vedl_data.head())"
   ]
  },
  {
   "cell_type": "code",
   "execution_count": null,
   "metadata": {},
   "outputs": [],
   "source": []
  }
 ],
 "metadata": {
  "kernelspec": {
   "display_name": "Python 3",
   "language": "python",
   "name": "python3"
  },
  "language_info": {
   "codemirror_mode": {
    "name": "ipython",
    "version": 3
   },
   "file_extension": ".py",
   "mimetype": "text/x-python",
   "name": "python",
   "nbconvert_exporter": "python",
   "pygments_lexer": "ipython3",
   "version": "3.11.0"
  }
 },
 "nbformat": 4,
 "nbformat_minor": 2
}
