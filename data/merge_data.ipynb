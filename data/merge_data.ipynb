{
 "cells": [
  {
   "cell_type": "code",
   "execution_count": 1,
   "id": "e63cab50",
   "metadata": {},
   "outputs": [],
   "source": [
    "import pandas as pd"
   ]
  },
  {
   "cell_type": "markdown",
   "id": "301eb543",
   "metadata": {},
   "source": [
    "# Data Collection"
   ]
  },
  {
   "cell_type": "code",
   "execution_count": 2,
   "id": "e74a2fa1",
   "metadata": {},
   "outputs": [
    {
     "name": "stdout",
     "output_type": "stream",
     "text": [
      "VEDL Stock Data:\n",
      "   Unnamed: 0       Date        Open        High         Low       Close  \\\n",
      "0           0 2019-01-01  202.500000  202.850006  200.350006  202.100006   \n",
      "1           1 2019-01-02  200.000000  200.000000  192.500000  193.149994   \n",
      "2           2 2019-01-03  193.699997  195.000000  187.550003  187.949997   \n",
      "3           3 2019-01-04  188.000000  194.449997  186.649994  192.899994   \n",
      "4           4 2019-01-07  196.100006  198.649994  192.500000  193.449997   \n",
      "\n",
      "   Adj Close    Volume  \n",
      "0  88.260162   3947501  \n",
      "1  84.351532  18935386  \n",
      "2  82.080643  13968283  \n",
      "3  84.242378  12883382  \n",
      "4  84.482552  11020289  \n",
      "Nifty Metal Stock Data:\n",
      "        Date         Open         High          Low        Close    Adj Close  \\\n",
      "0 2019-01-01  3162.250000  3164.050049  3122.399902  3135.250000  3135.250000   \n",
      "1 2019-01-02  3095.550049  3097.100098  3021.649902  3028.449951  3028.449951   \n",
      "2 2019-01-03  3030.899902  3031.149902  2956.199951  2960.399902  2960.399902   \n",
      "3 2019-01-04  2959.250000  3013.350098  2949.300049  3001.699951  3001.699951   \n",
      "4 2019-01-07  3040.649902  3055.300049  2991.449951  2997.100098  2997.100098   \n",
      "\n",
      "   Volume  \n",
      "0  405100  \n",
      "1  962800  \n",
      "2  898900  \n",
      "3  899900  \n",
      "4  660600  \n",
      "India's GDP/Infaltion Data:\n",
      "        Date  GDP_Growth_Rate  Inflation_Rate\n",
      "0 2019-01-01              5.8             2.0\n",
      "1 2019-02-01              5.7             2.1\n",
      "2 2019-03-01              5.6             2.4\n",
      "3 2019-04-01              5.2             2.9\n",
      "4 2019-05-01              5.1             3.0\n",
      "News Sentiments Data:\n",
      "         Date  News Sentiment\n",
      "0  2019-01-02       -0.999981\n",
      "1  2019-01-04       -0.999845\n",
      "2  2019-01-05       -0.997917\n",
      "3  2019-01-07       -0.167332\n",
      "4  2019-01-08       -0.017519\n"
     ]
    }
   ],
   "source": [
    "# VEDL Stock Data\n",
    "vedl_data = pd.read_csv('vedl_data.csv', parse_dates=['Date'], index_col=None)\n",
    "print(\"VEDL Stock Data:\")\n",
    "print(vedl_data.head())\n",
    "\n",
    "# Nifty Metal Stock Data\n",
    "nifty_metal_data = pd.read_csv('nifty_metal_historical_data.csv', parse_dates=['Date'], index_col=None)\n",
    "print(\"Nifty Metal Stock Data:\")\n",
    "print(nifty_metal_data.head())\n",
    "\n",
    "# India's GDP/Infaltion Data\n",
    "macroeconomic_data = pd.read_csv('india_gdp_inflation_data.csv', parse_dates=['Date'], index_col=None)\n",
    "print(\"India's GDP/Infaltion Data:\")\n",
    "print(macroeconomic_data.head())\n",
    "\n",
    "# News Sentiments Data\n",
    "news_sentiment_data = pd.read_csv('news_with_sentiment_scores.csv', parse_dates=['date'], index_col=None)\n",
    "news_sentiment_data.rename(columns={'date': 'Date'}, inplace=True)\n",
    "news_sentiment_data['Date'] = news_sentiment_data['Date'].dt.date\n",
    "news_sentiment_data['News Sentiment'] = news_sentiment_data[['title_sentiment_score', 'content_sentiment_score']].max(axis=1)\n",
    "news_sentiment_data = news_sentiment_data[['Date','News Sentiment']]\n",
    "print(\"News Sentiments Data:\")\n",
    "print(news_sentiment_data.head())"
   ]
  },
  {
   "cell_type": "markdown",
   "id": "75ad002e",
   "metadata": {},
   "source": [
    "# Data Preprocessing\n",
    "##### Regularize the data for each date from 01-01-2019 to 24-10-2024, we can follow these steps:\n",
    "######     Generate a date range covering all dates from 01-01-2019 to 24-10-2024.\n",
    "######     Reindex each DataFrame to this date range.\n",
    "######     Forward fill the missing values from the previous dates.\n",
    "######     If there are any remaining missing values (e.g., at the start of the date range), fill these with the mean value of the column."
   ]
  },
  {
   "cell_type": "code",
   "execution_count": 3,
   "id": "6669e1d1",
   "metadata": {},
   "outputs": [],
   "source": [
    "# Generate the complete date range\n",
    "date_range = pd.date_range(start='2019-01-01', end='2024-10-24').date\n",
    "\n",
    "# Function to regularize data\n",
    "def regularize_data(df, date_range, columns_to_fill=None):\n",
    "    df = df.set_index('Date').reindex(date_range).sort_index()\n",
    "    if columns_to_fill is not None:\n",
    "        df[columns_to_fill] = df[columns_to_fill].fillna(method='ffill') \n",
    "        df[columns_to_fill] = df[columns_to_fill].fillna(df[columns_to_fill].mean()) \n",
    "    else:\n",
    "        df.fillna(method='ffill', inplace=True) \n",
    "        df.fillna(df.mean(), inplace=True) \n",
    "    df.reset_index(inplace=True)\n",
    "    df.rename(columns={'index': 'Date'}, inplace=True)\n",
    "    return df"
   ]
  },
  {
   "cell_type": "code",
   "execution_count": 4,
   "id": "f8a20468",
   "metadata": {},
   "outputs": [
    {
     "name": "stderr",
     "output_type": "stream",
     "text": [
      "C:\\Users\\prash\\AppData\\Local\\Temp\\ipykernel_38672\\1130488957.py:11: FutureWarning: DataFrame.fillna with 'method' is deprecated and will raise in a future version. Use obj.ffill() or obj.bfill() instead.\n",
      "  df.fillna(method='ffill', inplace=True)\n",
      "C:\\Users\\prash\\AppData\\Local\\Temp\\ipykernel_38672\\1130488957.py:11: FutureWarning: DataFrame.fillna with 'method' is deprecated and will raise in a future version. Use obj.ffill() or obj.bfill() instead.\n",
      "  df.fillna(method='ffill', inplace=True)\n",
      "C:\\Users\\prash\\AppData\\Local\\Temp\\ipykernel_38672\\1130488957.py:11: FutureWarning: DataFrame.fillna with 'method' is deprecated and will raise in a future version. Use obj.ffill() or obj.bfill() instead.\n",
      "  df.fillna(method='ffill', inplace=True)\n"
     ]
    }
   ],
   "source": [
    "# Apply the regularize_data function to each DataFrame\n",
    "vedl_data_regularized = regularize_data(vedl_data, date_range)\n",
    "nifty_metal_data_regularized = regularize_data(nifty_metal_data, date_range)\n",
    "macroeconomic_data_regularized = regularize_data(macroeconomic_data, date_range)"
   ]
  },
  {
   "cell_type": "code",
   "execution_count": 5,
   "id": "189a9581",
   "metadata": {},
   "outputs": [
    {
     "name": "stderr",
     "output_type": "stream",
     "text": [
      "C:\\Users\\prash\\AppData\\Local\\Temp\\ipykernel_38672\\3795307701.py:8: FutureWarning: Series.fillna with 'method' is deprecated and will raise in a future version. Use obj.ffill() or obj.bfill() instead.\n",
      "  news_sentiment_data_regularized['News Sentiment'] = news_sentiment_data_regularized['News Sentiment'].fillna(method='ffill')\n"
     ]
    }
   ],
   "source": [
    "# Create a DataFrame with the complete date range\n",
    "complete_date_range = pd.DataFrame(date_range, columns=['Date'])\n",
    "\n",
    "# Merge the sentiment data with the complete date range\n",
    "news_sentiment_data_regularized = pd.merge(complete_date_range, news_sentiment_data, on='Date', how='left')\n",
    "\n",
    "# Forward fill missing values\n",
    "news_sentiment_data_regularized['News Sentiment'] = news_sentiment_data_regularized['News Sentiment'].fillna(method='ffill')\n",
    "\n",
    "# Fill any remaining NaN values with the mean of the column\n",
    "mean_sentiment = news_sentiment_data_regularized['News Sentiment'].mean()\n",
    "news_sentiment_data_regularized['News Sentiment'] = news_sentiment_data_regularized['News Sentiment'].fillna(mean_sentiment)"
   ]
  },
  {
   "cell_type": "code",
   "execution_count": 6,
   "id": "c5ae19e8",
   "metadata": {},
   "outputs": [
    {
     "name": "stdout",
     "output_type": "stream",
     "text": [
      "VEDL Stock Data:\n",
      "         Date  Unnamed: 0        Open        High         Low       Close  \\\n",
      "0  2019-01-01         0.0  202.500000  202.850006  200.350006  202.100006   \n",
      "1  2019-01-02         1.0  200.000000  200.000000  192.500000  193.149994   \n",
      "2  2019-01-03         2.0  193.699997  195.000000  187.550003  187.949997   \n",
      "3  2019-01-04         3.0  188.000000  194.449997  186.649994  192.899994   \n",
      "4  2019-01-05         3.0  188.000000  194.449997  186.649994  192.899994   \n",
      "\n",
      "   Adj Close      Volume  \n",
      "0  88.260162   3947501.0  \n",
      "1  84.351532  18935386.0  \n",
      "2  82.080643  13968283.0  \n",
      "3  84.242378  12883382.0  \n",
      "4  84.242378  12883382.0  \n",
      "\n",
      "Nifty Metal Stock Data:\n",
      "         Date         Open         High          Low        Close  \\\n",
      "0  2019-01-01  3162.250000  3164.050049  3122.399902  3135.250000   \n",
      "1  2019-01-02  3095.550049  3097.100098  3021.649902  3028.449951   \n",
      "2  2019-01-03  3030.899902  3031.149902  2956.199951  2960.399902   \n",
      "3  2019-01-04  2959.250000  3013.350098  2949.300049  3001.699951   \n",
      "4  2019-01-05  2959.250000  3013.350098  2949.300049  3001.699951   \n",
      "\n",
      "     Adj Close    Volume  \n",
      "0  3135.250000  405100.0  \n",
      "1  3028.449951  962800.0  \n",
      "2  2960.399902  898900.0  \n",
      "3  3001.699951  899900.0  \n",
      "4  3001.699951  899900.0  \n",
      "\n",
      "India's GDP/Inflation Data:\n",
      "         Date  GDP_Growth_Rate  Inflation_Rate\n",
      "0  2019-01-01              5.8             2.0\n",
      "1  2019-01-02              5.8             2.0\n",
      "2  2019-01-03              5.8             2.0\n",
      "3  2019-01-04              5.8             2.0\n",
      "4  2019-01-05              5.8             2.0\n",
      "\n",
      "News Sentiments Data:\n",
      "         Date  News Sentiment\n",
      "0  2019-01-01       -0.592725\n",
      "1  2019-01-02       -0.999981\n",
      "2  2019-01-03       -0.999981\n",
      "3  2019-01-04       -0.999845\n",
      "4  2019-01-05       -0.997917\n"
     ]
    }
   ],
   "source": [
    "# Verify the results\n",
    "print(\"VEDL Stock Data:\")\n",
    "print(vedl_data_regularized.head())\n",
    "print(\"\\nNifty Metal Stock Data:\")\n",
    "print(nifty_metal_data_regularized.head())\n",
    "print(\"\\nIndia's GDP/Inflation Data:\")\n",
    "print(macroeconomic_data_regularized.head())\n",
    "print(\"\\nNews Sentiments Data:\")\n",
    "print(news_sentiment_data_regularized.head())"
   ]
  },
  {
   "cell_type": "code",
   "execution_count": 7,
   "id": "9caad0e1",
   "metadata": {},
   "outputs": [
    {
     "name": "stdout",
     "output_type": "stream",
     "text": [
      "Merged Data:\n",
      "         Date   Open_VEDL   High_VEDL    Low_VEDL  Close_VEDL  Adj Close_VEDL  \\\n",
      "0  2019-01-01  202.500000  202.850006  200.350006  202.100006       88.260162   \n",
      "1  2019-01-02  200.000000  200.000000  192.500000  193.149994       84.351532   \n",
      "2  2019-01-03  193.699997  195.000000  187.550003  187.949997       82.080643   \n",
      "3  2019-01-04  188.000000  194.449997  186.649994  192.899994       84.242378   \n",
      "4  2019-01-05  188.000000  194.449997  186.649994  192.899994       84.242378   \n",
      "5  2019-01-06  188.000000  194.449997  186.649994  192.899994       84.242378   \n",
      "6  2019-01-07  196.100006  198.649994  192.500000  193.449997       84.482552   \n",
      "7  2019-01-08  194.500000  197.000000  191.899994  195.649994       85.443352   \n",
      "8  2019-01-09  197.949997  198.000000  192.000000  194.750000       85.050293   \n",
      "9  2019-01-10  195.000000  196.199997  193.449997  195.449997       85.356010   \n",
      "\n",
      "   Volume_VEDL  Open_NiftyMetal  High_NiftyMetal  Low_NiftyMetal  \\\n",
      "0    3947501.0      3162.250000      3164.050049     3122.399902   \n",
      "1   18935386.0      3095.550049      3097.100098     3021.649902   \n",
      "2   13968283.0      3030.899902      3031.149902     2956.199951   \n",
      "3   12883382.0      2959.250000      3013.350098     2949.300049   \n",
      "4   12883382.0      2959.250000      3013.350098     2949.300049   \n",
      "5   12883382.0      2959.250000      3013.350098     2949.300049   \n",
      "6   11020289.0      3040.649902      3055.300049     2991.449951   \n",
      "7   14295380.0      3000.550049      3021.350098     2987.600098   \n",
      "8   11205333.0      3020.399902      3031.699951     2951.899902   \n",
      "9    8256271.0      2979.699951      2990.050049     2961.149902   \n",
      "\n",
      "   Close_NiftyMetal  Adj Close_NiftyMetal  Volume_NiftyMetal  GDP_Growth_Rate  \\\n",
      "0       3135.250000           3135.250000           405100.0              5.8   \n",
      "1       3028.449951           3028.449951           962800.0              5.8   \n",
      "2       2960.399902           2960.399902           898900.0              5.8   \n",
      "3       3001.699951           3001.699951           899900.0              5.8   \n",
      "4       3001.699951           3001.699951           899900.0              5.8   \n",
      "5       3001.699951           3001.699951           899900.0              5.8   \n",
      "6       2997.100098           2997.100098           660600.0              5.8   \n",
      "7       3010.300049           3010.300049           714400.0              5.8   \n",
      "8       2975.500000           2975.500000           902200.0              5.8   \n",
      "9       2972.350098           2972.350098           589400.0              5.8   \n",
      "\n",
      "   Inflation_Rate  News Sentiment  \n",
      "0             2.0       -0.592725  \n",
      "1             2.0       -0.999981  \n",
      "2             2.0       -0.999981  \n",
      "3             2.0       -0.999845  \n",
      "4             2.0       -0.997917  \n",
      "5             2.0       -0.997917  \n",
      "6             2.0       -0.167332  \n",
      "7             2.0       -0.017519  \n",
      "8             2.0       -0.017519  \n",
      "9             2.0       -0.999843  \n"
     ]
    }
   ],
   "source": [
    "# Merge all dataframes\n",
    "merged_data = vedl_data_regularized.merge(nifty_metal_data_regularized, on='Date', suffixes=('_VEDL', '_NiftyMetal'))\n",
    "merged_data = merged_data.merge(macroeconomic_data_regularized, on='Date')\n",
    "merged_data = merged_data.merge(news_sentiment_data_regularized, on='Date')\n",
    "\n",
    "# Drop any unnamed columns\n",
    "merged_data = merged_data.loc[:, ~merged_data.columns.str.contains('^Unnamed')]\n",
    "\n",
    "# Verify the results\n",
    "print(\"Merged Data:\")\n",
    "print(merged_data.head(10))"
   ]
  },
  {
   "cell_type": "code",
   "execution_count": 8,
   "id": "c2381e82",
   "metadata": {},
   "outputs": [],
   "source": [
    "data = merged_data.copy()\n",
    "data['Date'] = pd.to_datetime(data['Date'])"
   ]
  },
  {
   "cell_type": "code",
   "execution_count": 10,
   "id": "293f0a8e",
   "metadata": {},
   "outputs": [
    {
     "name": "stdout",
     "output_type": "stream",
     "text": [
      "Merged data saved to data/final_merged_data.csv\n"
     ]
    }
   ],
   "source": [
    "data.to_csv(\"final_merged_data.csv\", index=False)\n",
    "print(\"Merged data saved to data/final_merged_data.csv\")"
   ]
  },
  {
   "cell_type": "code",
   "execution_count": null,
   "id": "32c77c17",
   "metadata": {},
   "outputs": [],
   "source": []
  }
 ],
 "metadata": {
  "kernelspec": {
   "display_name": "Python 3",
   "language": "python",
   "name": "python3"
  },
  "language_info": {
   "codemirror_mode": {
    "name": "ipython",
    "version": 3
   },
   "file_extension": ".py",
   "mimetype": "text/x-python",
   "name": "python",
   "nbconvert_exporter": "python",
   "pygments_lexer": "ipython3",
   "version": "3.9.11"
  }
 },
 "nbformat": 4,
 "nbformat_minor": 5
}
