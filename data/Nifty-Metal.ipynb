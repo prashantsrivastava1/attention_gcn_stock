{
 "cells": [
  {
   "cell_type": "code",
   "execution_count": 3,
   "metadata": {},
   "outputs": [
    {
     "name": "stderr",
     "output_type": "stream",
     "text": [
      "[*********************100%***********************]  1 of 1 completed"
     ]
    },
    {
     "name": "stdout",
     "output_type": "stream",
     "text": [
      "                   Open         High          Low        Close    Adj Close  \\\n",
      "Date                                                                          \n",
      "2019-01-01  3162.250000  3164.050049  3122.399902  3135.250000  3135.250000   \n",
      "2019-01-02  3095.550049  3097.100098  3021.649902  3028.449951  3028.449951   \n",
      "2019-01-03  3030.899902  3031.149902  2956.199951  2960.399902  2960.399902   \n",
      "2019-01-04  2959.250000  3013.350098  2949.300049  3001.699951  3001.699951   \n",
      "2019-01-07  3040.649902  3055.300049  2991.449951  2997.100098  2997.100098   \n",
      "\n",
      "            Volume  \n",
      "Date                \n",
      "2019-01-01  405100  \n",
      "2019-01-02  962800  \n",
      "2019-01-03  898900  \n",
      "2019-01-04  899900  \n",
      "2019-01-07  660600  \n"
     ]
    },
    {
     "name": "stderr",
     "output_type": "stream",
     "text": [
      "\n"
     ]
    }
   ],
   "source": [
    "import yfinance as yf\n",
    "\n",
    "# Define the ticker symbol for Nifty Metal Index\n",
    "nifty_metal_ticker = '^CNXMETAL'\n",
    "\n",
    "# Download historical data\n",
    "nifty_metal_data = yf.download(nifty_metal_ticker, start='2019-01-01', end='2024-10-24')\n",
    "\n",
    "# Display the first few rows of the dataframe\n",
    "print(nifty_metal_data.head())\n",
    "\n",
    "# Optionally, save to CSV\n",
    "nifty_metal_data.to_csv('nifty_metal_historical_data.csv')\n"
   ]
  },
  {
   "cell_type": "code",
   "execution_count": null,
   "metadata": {},
   "outputs": [],
   "source": []
  }
 ],
 "metadata": {
  "kernelspec": {
   "display_name": "Python 3",
   "language": "python",
   "name": "python3"
  },
  "language_info": {
   "codemirror_mode": {
    "name": "ipython",
    "version": 3
   },
   "file_extension": ".py",
   "mimetype": "text/x-python",
   "name": "python",
   "nbconvert_exporter": "python",
   "pygments_lexer": "ipython3",
   "version": "3.11.0"
  }
 },
 "nbformat": 4,
 "nbformat_minor": 2
}
